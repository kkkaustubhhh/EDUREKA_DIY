{
 "cells": [
  {
   "cell_type": "code",
   "execution_count": null,
   "id": "e6c86b69-9d8f-44a4-b321-88157942fc82",
   "metadata": {},
   "outputs": [],
   "source": [
    "#Q1. Problem Statement: Hello World\n",
    "'''Write a Python program to print “Hello World!”.'''"
   ]
  },
  {
   "cell_type": "code",
   "execution_count": 4,
   "id": "3400364e-fe32-4c66-9c46-f10a9c92b8ca",
   "metadata": {},
   "outputs": [
    {
     "name": "stdout",
     "output_type": "stream",
     "text": [
      "Hello World!\n"
     ]
    }
   ],
   "source": [
    "print(\"Hello World!\")"
   ]
  },
  {
   "cell_type": "code",
   "execution_count": null,
   "id": "34b013ee-9ac7-45b4-b0bc-e4cd4b5ff6e8",
   "metadata": {},
   "outputs": [],
   "source": [
    "#Q2. Problem Statement: Understanding Variables\n",
    "'''Write a Python program to create two variables, assign integer values to them\n",
    "and add them using the “+” operator to store the result in another variable and\n",
    "print it. '''"
   ]
  },
  {
   "cell_type": "code",
   "execution_count": 6,
   "id": "9a4b95ed-cded-4e86-8e94-0e637cc09a16",
   "metadata": {},
   "outputs": [
    {
     "name": "stdout",
     "output_type": "stream",
     "text": [
      "Result of Addition is: 30\n"
     ]
    }
   ],
   "source": [
    "a=15\n",
    "b=15\n",
    "c=a+b\n",
    "print(\"Result of Addition is:\",c)"
   ]
  },
  {
   "cell_type": "code",
   "execution_count": null,
   "id": "2b4a0218-a366-445e-8912-49d3eedefba2",
   "metadata": {},
   "outputs": [],
   "source": [
    "#Q3. Problem Statement: Understanding Tokens\n",
    "'''Write a Python program to create two variables, assign random values to them\n",
    "and add them using the “+” operator to store the result in another variable and\n",
    "print it.'''"
   ]
  },
  {
   "cell_type": "code",
   "execution_count": 7,
   "id": "5a1ae1b3-feca-41c2-8937-c7f1e0a0049b",
   "metadata": {},
   "outputs": [
    {
     "name": "stdout",
     "output_type": "stream",
     "text": [
      "edureka!10\n"
     ]
    }
   ],
   "source": [
    "a=\"edureka!\"\n",
    "b=10\n",
    "c=a+str(b)\n",
    "print(c)"
   ]
  },
  {
   "cell_type": "code",
   "execution_count": null,
   "id": "3d61755e-1b21-4c2f-b29d-172e5549e802",
   "metadata": {},
   "outputs": [],
   "source": []
  }
 ],
 "metadata": {
  "kernelspec": {
   "display_name": "Python 3 (ipykernel)",
   "language": "python",
   "name": "python3"
  },
  "language_info": {
   "codemirror_mode": {
    "name": "ipython",
    "version": 3
   },
   "file_extension": ".py",
   "mimetype": "text/x-python",
   "name": "python",
   "nbconvert_exporter": "python",
   "pygments_lexer": "ipython3",
   "version": "3.11.7"
  }
 },
 "nbformat": 4,
 "nbformat_minor": 5
}
