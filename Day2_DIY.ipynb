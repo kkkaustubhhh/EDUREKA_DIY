{
 "cells": [
  {
   "cell_type": "code",
   "execution_count": 9,
   "id": "d106422c-5eef-48e1-9760-523c8f9925ed",
   "metadata": {},
   "outputs": [
    {
     "data": {
      "text/plain": [
       "'Write a Python program that takes marks as input for six subjects, with\\nmaximum marks being 600, and prints total marks, average marks, and\\npercentages obtained by a student.'"
      ]
     },
     "execution_count": 9,
     "metadata": {},
     "output_type": "execute_result"
    }
   ],
   "source": [
    "#Q1. Problem Statement: The Percentage Calculator\n",
    "'''Write a Python program that takes marks as input for six subjects, with\n",
    "maximum marks being 600, and prints total marks, average marks, and\n",
    "percentages obtained by a student.'''"
   ]
  },
  {
   "cell_type": "code",
   "execution_count": 8,
   "id": "eab2e021-3744-4c96-a3cb-707d15e8fc90",
   "metadata": {},
   "outputs": [
    {
     "name": "stdout",
     "output_type": "stream",
     "text": [
      "Enter the marks of all six subjects, one by one:\n"
     ]
    },
    {
     "name": "stdin",
     "output_type": "stream",
     "text": [
      "Enter your Subject 1: 76\n",
      "Enter your Subject 2: 56\n",
      "Enter your Subject 3: 78\n",
      "Enter your Subject 4: 75\n",
      "Enter your Subject 5: 69\n",
      "Enter your Subject 6: 74\n"
     ]
    },
    {
     "name": "stdout",
     "output_type": "stream",
     "text": [
      "Total marks obtained : 428\n",
      "Average marks obtained: 71.33333333333333\n",
      "Percentage obtained: 71.33333333333334\n"
     ]
    }
   ],
   "source": [
    "import math\n",
    "print(\"Enter the marks of all six subjects, one by one:\")\n",
    "sub1=int(input(\"Enter your Subject 1:\"))\n",
    "sub2=int(input(\"Enter your Subject 2:\"))\n",
    "sub3=int(input(\"Enter your Subject 3:\"))\n",
    "sub4=int(input(\"Enter your Subject 4:\"))\n",
    "sub5=int(input(\"Enter your Subject 5:\"))\n",
    "sub6=int(input(\"Enter your Subject 6:\"))\n",
    "Total_marks=sub1+sub2+sub3+sub4+sub5+sub6\n",
    "Average_marks=Total_marks/6\n",
    "Percentage=(Total_marks/600)*100\n",
    "print(f'''Total marks obtained : {Total_marks}\n",
    "Average marks obtained: {Average_marks}\n",
    "Percentage obtained: {Percentage}''')"
   ]
  },
  {
   "cell_type": "code",
   "execution_count": null,
   "id": "68fc7207-b72c-444d-9073-535962cb0fbd",
   "metadata": {},
   "outputs": [],
   "source": [
    "#Q2. Problem Statement: The Score Card\n",
    "'''Declare a nested list with Exam scores and Student names as shown here -\n",
    "\"score=[[510, 'John'],[280, 'Lucy']……]\".Write a Python program\n",
    "to sort the list based on scores and print the students' names with first and\n",
    "second-highest scores.'''"
   ]
  },
  {
   "cell_type": "code",
   "execution_count": 24,
   "id": "1028a9a4-e473-4b70-86f0-842f16d6a9fb",
   "metadata": {},
   "outputs": [
    {
     "name": "stdout",
     "output_type": "stream",
     "text": [
      "[[346, 'Aryan'], [356, 'Tanvi'], [725, 'Sankalp'], [853, 'Shreyash'], [887, 'Kaustubh']]\n",
      "Student with highest marks is: Kaustubh\n",
      "Student with second highest marks is: Shreyash\n"
     ]
    }
   ],
   "source": [
    "score=[[887,\"Kaustubh\"],[725,\"Sankalp\"],[346,\"Aryan\"],[853,\"Shreyash\"],[356,\"Tanvi\"]]\n",
    "score.sort()\n",
    "print(score)\n",
    "print(\"Student with highest marks is:\",score[-1][1])\n",
    "print(\"Student with second highest marks is:\",score[-2][1])"
   ]
  },
  {
   "cell_type": "code",
   "execution_count": null,
   "id": "45c26ba1-4f63-41c8-b563-fafee3528704",
   "metadata": {},
   "outputs": [],
   "source": []
  }
 ],
 "metadata": {
  "kernelspec": {
   "display_name": "Python 3 (ipykernel)",
   "language": "python",
   "name": "python3"
  },
  "language_info": {
   "codemirror_mode": {
    "name": "ipython",
    "version": 3
   },
   "file_extension": ".py",
   "mimetype": "text/x-python",
   "name": "python",
   "nbconvert_exporter": "python",
   "pygments_lexer": "ipython3",
   "version": "3.11.7"
  }
 },
 "nbformat": 4,
 "nbformat_minor": 5
}
