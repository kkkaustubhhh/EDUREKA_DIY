{
 "cells": [
  {
   "cell_type": "code",
   "execution_count": null,
   "id": "c1c8edce-4784-40da-adfc-39e3501a6a4c",
   "metadata": {},
   "outputs": [],
   "source": [
    "#Q1. Problem Statement: Vowel or a Consonant\n",
    "'''Write a Python program that takes a character as input from the user and prints\n",
    "whether the character entered by the user is a vowel or a consonant.'''"
   ]
  },
  {
   "cell_type": "code",
   "execution_count": 7,
   "id": "c91fefc6-7872-45bd-ade3-eb39e68c9b25",
   "metadata": {},
   "outputs": [
    {
     "name": "stdin",
     "output_type": "stream",
     "text": [
      "Hello user, Please enter a character: s\n"
     ]
    },
    {
     "name": "stdout",
     "output_type": "stream",
     "text": [
      "s is a consonant\n"
     ]
    }
   ],
   "source": [
    "character=input(\"Hello user, Please enter a character:\")\n",
    "if character==\"a\":\n",
    "    print(character,\"is a vowel\")\n",
    "elif character==\"e\":\n",
    "    print(character,\"is a vowel\")\n",
    "elif character==\"i\":\n",
    "    print(character,\"is a vowel\")\n",
    "elif character==\"o\":\n",
    "    print(character,\"is a vowel\")\n",
    "elif character==\"u\":\n",
    "    print(character,\"is a vowel\")\n",
    "elif character==\"A\":\n",
    "    print(character,\"is a vowel\")\n",
    "elif character==\"E\":\n",
    "    print(character,\"is a vowel\")\n",
    "elif character==\"I\":\n",
    "    print(character,\"is a vowel\")\n",
    "elif character==\"O\":\n",
    "    print(character,\"is a vowel\")\n",
    "elif character==\"U\":\n",
    "    print(character,\"is a vowel\")\n",
    "else:\n",
    "    print(character,\"is a consonant\")"
   ]
  },
  {
   "cell_type": "code",
   "execution_count": null,
   "id": "beeb59d7-0171-43a1-a9c9-86108961f7b0",
   "metadata": {},
   "outputs": [],
   "source": [
    "#Q2. Problem Statement: Multiplication Table\n",
    "'''Write a Python program that takes an integer as input and prints a multiplication\n",
    "table from 1 to 10.'''"
   ]
  },
  {
   "cell_type": "code",
   "execution_count": 3,
   "id": "6070e00b-07f8-49fe-971e-9ca8a8fc4768",
   "metadata": {},
   "outputs": [
    {
     "name": "stdin",
     "output_type": "stream",
     "text": [
      "Please enter a number: 5\n"
     ]
    },
    {
     "name": "stdout",
     "output_type": "stream",
     "text": [
      "the multiplication table(from 1 to 10) of 5 is\n",
      "5 X 1 = 5\n",
      "5 X 2 = 10\n",
      "5 X 3 = 15\n",
      "5 X 4 = 20\n",
      "5 X 5 = 25\n",
      "5 X 6 = 30\n",
      "5 X 7 = 35\n",
      "5 X 8 = 40\n",
      "5 X 9 = 45\n",
      "5 X 10 = 50\n"
     ]
    }
   ],
   "source": [
    "number=int(input(\"Please enter a number:\"))\n",
    "i=1\n",
    "print(\"the multiplication table(from 1 to 10) of 5 is\")\n",
    "while i<=10:\n",
    "    print(number,\"X\",i,\"=\",number*i)\n",
    "    i=i+1"
   ]
  },
  {
   "cell_type": "code",
   "execution_count": null,
   "id": "f290ec65-e9b0-484d-ac34-79df94390879",
   "metadata": {},
   "outputs": [],
   "source": []
  }
 ],
 "metadata": {
  "kernelspec": {
   "display_name": "Python 3 (ipykernel)",
   "language": "python",
   "name": "python3"
  },
  "language_info": {
   "codemirror_mode": {
    "name": "ipython",
    "version": 3
   },
   "file_extension": ".py",
   "mimetype": "text/x-python",
   "name": "python",
   "nbconvert_exporter": "python",
   "pygments_lexer": "ipython3",
   "version": "3.11.7"
  }
 },
 "nbformat": 4,
 "nbformat_minor": 5
}
