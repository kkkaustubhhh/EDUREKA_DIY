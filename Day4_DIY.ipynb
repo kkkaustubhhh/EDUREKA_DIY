{
 "cells": [
  {
   "cell_type": "code",
   "execution_count": null,
   "id": "6d6ec1ca-a4fc-498d-8834-6fc043cdc112",
   "metadata": {},
   "outputs": [],
   "source": [
    "#Q1. Problem Statement: Quotient and Remainder\n",
    "'''Write a Python program with a user-defined function that takes two integers as\n",
    "input, dividend, and divisor. Print the quotient and the remainder of the two\n",
    "numbers by dividing them using the “//” and “%” operators.'''"
   ]
  },
  {
   "cell_type": "code",
   "execution_count": 4,
   "id": "6ee2a29c-20e4-47b0-a60a-638370fafa24",
   "metadata": {},
   "outputs": [
    {
     "name": "stdin",
     "output_type": "stream",
     "text": [
      "Enter the Dividend: 30\n",
      "Enter the Divisor: 6\n"
     ]
    },
    {
     "name": "stdout",
     "output_type": "stream",
     "text": [
      "Quotient 5\n",
      "Remainder 0\n"
     ]
    }
   ],
   "source": [
    "def division():\n",
    "    dividend=int(input(\"Enter the Dividend:\"))\n",
    "    divisor=int(input(\"Enter the Divisor:\"))\n",
    "    quotient=dividend//divisor\n",
    "    remainder=dividend%divisor\n",
    "    print(\"Quotient\",quotient)\n",
    "    print(\"Remainder\",remainder)\n",
    "division()"
   ]
  },
  {
   "cell_type": "code",
   "execution_count": null,
   "id": "f1608aac-5f77-47ef-897e-670cca8e87f8",
   "metadata": {},
   "outputs": [],
   "source": [
    "#Q2. Problem Statement: Simple Interest Calculator\n",
    "'''Write a program in Python to calculate simple interest using the lambda\n",
    "function.\n",
    "Hint: Simple interest = (P * R * T)/100, where P is the principal amount, R is the\n",
    "rate, and T is the time/number of years.'''"
   ]
  },
  {
   "cell_type": "code",
   "execution_count": 7,
   "id": "967573e3-4413-4739-b555-e3e7be7f17f9",
   "metadata": {},
   "outputs": [
    {
     "name": "stdin",
     "output_type": "stream",
     "text": [
      "Enter the principal amount 40000\n",
      "Enter the Time(number of years) 5\n",
      "Enter the interest rate 8\n"
     ]
    },
    {
     "name": "stdout",
     "output_type": "stream",
     "text": [
      "The simple interest is: 16000.0\n"
     ]
    }
   ],
   "source": [
    "def lambda1():\n",
    "    P=int(input(\"Enter the principal amount\"))\n",
    "    T=int(input(\"Enter the Time(number of years)\"))\n",
    "    R=int(input(\"Enter the interest rate\"))\n",
    "    x=lambda P,R,T: (P*R*T)/100\n",
    "    print(\"The simple interest is:\",x(P,R,T))\n",
    "lambda1()"
   ]
  },
  {
   "cell_type": "code",
   "execution_count": null,
   "id": "4427e4cc-38e0-4e43-8bb7-41f9aae71f4a",
   "metadata": {},
   "outputs": [],
   "source": []
  }
 ],
 "metadata": {
  "kernelspec": {
   "display_name": "Python 3 (ipykernel)",
   "language": "python",
   "name": "python3"
  },
  "language_info": {
   "codemirror_mode": {
    "name": "ipython",
    "version": 3
   },
   "file_extension": ".py",
   "mimetype": "text/x-python",
   "name": "python",
   "nbconvert_exporter": "python",
   "pygments_lexer": "ipython3",
   "version": "3.11.7"
  }
 },
 "nbformat": 4,
 "nbformat_minor": 5
}
